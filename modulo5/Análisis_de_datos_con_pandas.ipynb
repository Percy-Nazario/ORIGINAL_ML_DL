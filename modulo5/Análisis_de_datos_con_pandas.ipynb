{
  "nbformat": 4,
  "nbformat_minor": 0,
  "metadata": {
    "colab": {
      "provenance": [],
      "include_colab_link": true
    },
    "kernelspec": {
      "name": "python3",
      "display_name": "Python 3"
    },
    "language_info": {
      "name": "python"
    }
  },
  "cells": [
    {
      "cell_type": "markdown",
      "metadata": {
        "id": "view-in-github",
        "colab_type": "text"
      },
      "source": [
        "<a href=\"https://colab.research.google.com/github/Percy-Nazario/ORIGINAL_ML_DL/blob/main/modulo5/An%C3%A1lisis_de_datos_con_pandas.ipynb\" target=\"_parent\"><img src=\"https://colab.research.google.com/assets/colab-badge.svg\" alt=\"Open In Colab\"/></a>"
      ]
    },
    {
      "cell_type": "markdown",
      "source": [
        "<img src=\"https://www.ctic.uni.edu.pe/wp-content/uploads/2022/04/588px-x-348px-web-1.png\" alt=\"HTML5 Icon\" width=\"900\" height=\"350\" >"
      ],
      "metadata": {
        "id": "IEPhKXagOPRM"
      }
    },
    {
      "cell_type": "markdown",
      "source": [
        "<h1 align=center><font size = 5> UNIDAD V - ANÁLSIS DE DATOS CON PANDAS\n",
        "</font></h1>\n",
        "\n",
        "---"
      ],
      "metadata": {
        "id": "4jHB833BOUAf"
      }
    },
    {
      "cell_type": "markdown",
      "source": [
        "#Lectura de datasets\n",
        "\n",
        "Importando librerías"
      ],
      "metadata": {
        "id": "wDkSiVTqMAyf"
      }
    },
    {
      "cell_type": "code",
      "execution_count": null,
      "metadata": {
        "id": "x4PcLi6ILn7H"
      },
      "outputs": [],
      "source": [
        "import pandas as pd\n"
      ]
    },
    {
      "cell_type": "code",
      "source": [
        "pddf = pd.read_csv('.csv')\n"
      ],
      "metadata": {
        "id": "mPhvD1F6L-9G"
      },
      "execution_count": null,
      "outputs": []
    },
    {
      "cell_type": "code",
      "source": [
        "# sorteando data\n",
        "pddf.sort_values('', inplace = True)\n",
        "pddf.sort_values(['', ''], inplace = True)\n"
      ],
      "metadata": {
        "id": "nTPtU_0DL0YN"
      },
      "execution_count": null,
      "outputs": []
    },
    {
      "cell_type": "code",
      "source": [
        "# trabajando indices\n",
        "pddf.reset_index(inplace = True)\n",
        "pddf.reset_index(drop = True, inplace = True)\n",
        "\n",
        "pddf.head(10)"
      ],
      "metadata": {
        "id": "t-u0pIF3MUYp"
      },
      "execution_count": null,
      "outputs": []
    },
    {
      "cell_type": "markdown",
      "source": [
        "Análisis simple de data"
      ],
      "metadata": {
        "id": "yyEtxUG2MhFv"
      }
    },
    {
      "cell_type": "code",
      "source": [
        "pddf.shape\n",
        "pddf.describe().transpose()\n",
        "\n",
        "pd.set_option('display.float_format', lambda x: '%10.2f' % x)\n",
        "pddf.describe().transpose()\n",
        "\n",
        "pddf.app_PD.hist(bins = 50)\n"
      ],
      "metadata": {
        "id": "AV2eNKE6Miz7"
      },
      "execution_count": null,
      "outputs": []
    },
    {
      "cell_type": "markdown",
      "source": [
        "Creando variables nuevas"
      ],
      "metadata": {
        "id": "GOnT8T0RMuJN"
      }
    },
    {
      "cell_type": "code",
      "source": [
        "pddf_resume = pddf.describe().transpose()\n",
        "pddf_resume['fill_rate'] = pddf_resume['count']/pddf.shape[0]\n",
        "\n",
        "pddf_resume.reset_index(drop = False, inplace = True)\n",
        "pddf_resume"
      ],
      "metadata": {
        "id": "tanePLmcMtvI"
      },
      "execution_count": null,
      "outputs": []
    },
    {
      "cell_type": "markdown",
      "source": [
        "Renombrando columnas\n",
        "\n"
      ],
      "metadata": {
        "id": "9A9OzbT8M0hU"
      }
    },
    {
      "cell_type": "code",
      "source": [
        "pddf_resume.rename(columns={'index': 'variable','count':'N'}, inplace = True)\n",
        "pddf_resume"
      ],
      "metadata": {
        "id": "zw3vswSmM1KF"
      },
      "execution_count": null,
      "outputs": []
    },
    {
      "cell_type": "markdown",
      "source": [
        "Creando variables usando funciones apply\n",
        "\n"
      ],
      "metadata": {
        "id": "1zFo3eJvM4cz"
      }
    },
    {
      "cell_type": "code",
      "source": [
        "from math import log\n",
        "\n",
        "pddf[''] = pddf.app_PD.apply(lambda x: -log((1/x) - 1))\n",
        "pddf[''] = pddf.app_PD.transform(lambda x: -log((1/x) - 1))\n"
      ],
      "metadata": {
        "id": "zj7X5zbnM3yt"
      },
      "execution_count": null,
      "outputs": []
    },
    {
      "cell_type": "markdown",
      "source": [
        "Creando agregaciones\n",
        "\n"
      ],
      "metadata": {
        "id": "5oqoIREaM9bQ"
      }
    },
    {
      "cell_type": "code",
      "source": [
        "\n",
        "pddf.CODMES_PROD.max()\n",
        "pddf.groupby('')[''].count()\n",
        "pddf.groupby('')[''].median()\n",
        "\n",
        "pddf_res2 = pddf.groupby('').aggregate({'':'count',\n",
        "                                        '': 'mean', \n",
        "                                        '': 'mean'})\n",
        "pddf_res2.reset_index(drop = False, inplace = True)\n",
        "pddf_res2\n"
      ],
      "metadata": {
        "id": "kDW95DbzM9BR"
      },
      "execution_count": null,
      "outputs": []
    },
    {
      "cell_type": "markdown",
      "source": [
        "Creando matriz de doble entrada\n",
        "\n"
      ],
      "metadata": {
        "id": "DeTXvNH6NF8S"
      }
    },
    {
      "cell_type": "code",
      "source": [
        "pddf[''] = pddf.app_PD.transform(lambda x: 1 if x > 0.5 else 0)\n",
        "\n",
        "pddf[''] = pddf.app_PD.transform(lambda x: '< 5%' if x < 0.05 \n",
        "                                                   '5-10%'elif x < 0.1\n",
        "                                                          else '>10%')\n",
        "\n",
        "\n",
        "pd.crosstab(pddf., pddf.)\n",
        "pd.crosstab(pddf., pddf., normalize = 'all')"
      ],
      "metadata": {
        "id": "-BqxPBdxNHN0"
      },
      "execution_count": null,
      "outputs": []
    },
    {
      "cell_type": "markdown",
      "source": [
        "Series"
      ],
      "metadata": {
        "id": "CVyBnw29NMsE"
      }
    },
    {
      "cell_type": "code",
      "source": [
        "pddf.\n",
        "pddf. < 0.10\n",
        "pddf..mean()"
      ],
      "metadata": {
        "id": "fFIYdgDyNKQa"
      },
      "execution_count": null,
      "outputs": []
    },
    {
      "cell_type": "code",
      "source": [
        "import numpy as np\n",
        "\n",
        "np.array([[[1,2,3,4,5,6,7,8,9,10], [1,2,3,4,5,6,7,8,9,10]]\n",
        "         [[1,2,3,4,5,6,7,8,9,10], [1,2,3,4,5,6,7,8,9,10]]])\n",
        "\n",
        "a = np.array([1,2,3,4,5])\n",
        "np.where( a > 3,  '>3', '<=3')\n"
      ],
      "metadata": {
        "id": "KHXm3ttBNULy"
      },
      "execution_count": null,
      "outputs": []
    },
    {
      "cell_type": "markdown",
      "source": [
        "Filtros y Cruces\n",
        "\n"
      ],
      "metadata": {
        "id": "xyz2bR_QNdC5"
      }
    },
    {
      "cell_type": "markdown",
      "source": [
        "Filtros de filas\n",
        "\n"
      ],
      "metadata": {
        "id": "REfluytHNeN0"
      }
    },
    {
      "cell_type": "code",
      "source": [
        "pddf[0:4]\n",
        "pddf[6:11]\n",
        "\n",
        "\n",
        "pddf.iloc[[1,2,3,4,5,888]]\n",
        "\n",
        "pddf.loc[pddf. == '']\n",
        "pddf.loc[~(pddf. == '')]\n",
        "\n",
        "pddf.loc[(pddf. == '') & (pddf. < 0.10)]\n",
        "pddf.loc[(pddf. == '') | (pddf. < 0.10)]\n",
        "\n"
      ],
      "metadata": {
        "id": "HSvO55OBNgU8"
      },
      "execution_count": null,
      "outputs": []
    },
    {
      "cell_type": "markdown",
      "source": [
        "Filtro de columnas\n",
        "\n"
      ],
      "metadata": {
        "id": "rR7VGM89NlYB"
      }
    },
    {
      "cell_type": "code",
      "source": [
        "pddf.columns\n",
        "pddf.columns.tolist()\n",
        "\n",
        "\n",
        "pddf_1 = pddf[['', '', '', '']]\n",
        "pddf[pddf.columns.tolist()]\n",
        "pddf_1.head()"
      ],
      "metadata": {
        "id": "H2FTHjzxNm0I"
      },
      "execution_count": null,
      "outputs": []
    },
    {
      "cell_type": "markdown",
      "source": [
        "Cruces"
      ],
      "metadata": {
        "id": "eq-5naAxN1YO"
      }
    },
    {
      "cell_type": "code",
      "source": [
        "pddf_2 = pddf[['', '', '', '']]\n",
        "\n",
        "pd.merge(pddf_1, pddf_2, on = ['', ''], how = 'left')\n",
        "pd.merge(pddf_1, pddf_2, how = 'left')\n"
      ],
      "metadata": {
        "id": "ZmgPoPRHN2FR"
      },
      "execution_count": null,
      "outputs": []
    }
  ]
}